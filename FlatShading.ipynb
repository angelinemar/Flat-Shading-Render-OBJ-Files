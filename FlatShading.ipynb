{
  "cells": [
    {
      "cell_type": "markdown",
      "metadata": {
        "id": "kDACXMe7nuJo"
      },
      "source": [
        "# Linear algebra Homework assignment 3 - 112006217\n"
      ]
    },
    {
      "cell_type": "code",
      "execution_count": 84,
      "metadata": {
        "id": "upxRk8bynuJr"
      },
      "outputs": [],
      "source": [
        "import numpy as np\n",
        "import math as m\n",
        "import matplotlib.pyplot as plt\n",
        "from mpl_toolkits.mplot3d.art3d import Poly3DCollection"
      ]
    },
    {
      "cell_type": "markdown",
      "metadata": {
        "id": "3wXjU9dHnuJr"
      },
      "source": [
        "## Problem 1 - 4"
      ]
    },
    {
      "cell_type": "code",
      "execution_count": 85,
      "metadata": {
        "id": "uZnO49jjnuJs"
      },
      "outputs": [],
      "source": [
        "# [TODO]\n",
        "def compute_lookat(azim: float, elev: float):\n",
        "    \"\"\"\n",
        "        Compute the look at vector. (Definition in Figure 3)\n",
        "        azim: float, degree in [-180, 180],\n",
        "        elev: float, degree in [-180, 180]\n",
        "    \"\"\"\n",
        "\n",
        "    # For the definition of azim and elev, check\n",
        "    # https://matplotlib.org/stable/api/toolkits/mplot3d/view_angles.html\n",
        "\n",
        "    a = m.cos(m.radians(elev)) * m.cos(m.radians(azim))\n",
        "    #print(f\"a: {a}\")\n",
        "    b =  m.cos(m.radians(elev)) * m.sin(m.radians(azim))\n",
        "    lookat = np.array([a, b, m.sin(m.radians(elev))])\n",
        "    #print(np.array([a, b, m.sin(m.radians(elev))]))\n",
        "    return lookat"
      ]
    },
    {
      "cell_type": "code",
      "execution_count": 86,
      "metadata": {
        "id": "_kvHRHu-nuJs"
      },
      "outputs": [],
      "source": [
        "# [TODO]\n",
        "def compute_normal(P1: tuple, P2: tuple, P3: tuple):\n",
        "    \"\"\"\n",
        "        Compute the normal vector, given P1, P2, P3 in counter-clockwise order.\n",
        "    \"\"\"\n",
        "    v1 = np.array(P2) - np.array(P1)\n",
        "    v2 = np.array(P3) - np.array(P1)\n",
        "    normal = np.cross(v1, v2)\n",
        "    normal /= np.linalg.norm(normal)\n",
        "\n",
        "    return normal"
      ]
    },
    {
      "cell_type": "code",
      "execution_count": 87,
      "metadata": {
        "id": "18gbFGceowOH"
      },
      "outputs": [],
      "source": [
        "# [TODO]\n",
        "def visible(face_normal: np.ndarray, lookat: np.ndarray):\n",
        "    \"\"\"\n",
        "        Given a normal vector of a face, determine if the face (outward-facing side) is visible\n",
        "    \"\"\"\n",
        "    is_visible = np.dot(face_normal, lookat) < 0 # the dot product is negative when the two vectors point in opposite directions\n",
        "\n",
        "    return is_visible\n",
        "    #return"
      ]
    },
    {
      "cell_type": "code",
      "execution_count": 96,
      "metadata": {
        "id": "oUmo5WLzoz5_"
      },
      "outputs": [],
      "source": [
        "'''\n",
        "The command function computes also for diffusion, for experiment.\n",
        "'''\n",
        "'''\n",
        "# [TODO] compute the beta in Figure3\n",
        "def compute_intensity(face_normal: np.ndarray, lookat: np.ndarray, lightsource: np.ndarray):\n",
        "\n",
        "  face_normal = face_normal /  np.linalg.norm(face_normal)\n",
        "  lightsource = lightsource / np.linalg.norm(lightsource)\n",
        "  lookat = lookat / np.linalg.norm(lookat)\n",
        "  dot_intensity = np.dot(face_normal, lightsource)\n",
        "  intensity = max(0, dot_intensity)\n",
        "\n",
        "  reflect = 2 * np.dot(face_normal, lightsource) * face_normal - lightsource\n",
        "  reflect = reflect / np.linalg.norm(reflect)\n",
        "\n",
        "  set_shine = 100\n",
        "  specular_intensity = max(0, np.dot(reflect, lookat)) ** set_shine\n",
        "  intensity = intensity + specular_intensity\n",
        "\n",
        "  return intensity\n",
        "\n",
        "'''\n",
        "\n",
        "'''\n",
        "This function below focus on specular lighting doesn't compute diffusion.\n",
        "'''\n",
        "#[TODO]\n",
        "def compute_intensity(face_normal: np.ndarray, lookat: np.ndarray, lightsource: np.ndarray):\n",
        "\n",
        "  face_normal = face_normal / np.linalg.norm(face_normal)\n",
        "  #print(f\"Normalized face_normal: {face_normal}\")\n",
        "  lightsource = lightsource / np.linalg.norm(lightsource)\n",
        "  #print(f\"Normalized lightsource: {lightsource}\")\n",
        "  lookat = lookat / np.linalg.norm(lookat)\n",
        "  reflection = 2 * np.dot(face_normal, lightsource) * face_normal - lightsource\n",
        "  reflection = reflection / np.linalg.norm(reflection)\n",
        "\n",
        "  compute_spec = np.dot(reflection, lookat)\n",
        "  intensity = (compute_spec+1) / 2\n",
        "  #print(f\"Scaled intensity before clamping: {intensity}\")\n",
        "  intensity= max(intensity,0.12) ** 0.3\n",
        "\n",
        "  return intensity"
      ]
    },
    {
      "cell_type": "markdown",
      "metadata": {
        "id": "CZExOaUJnuJt"
      },
      "source": [
        "## Problem 5\n",
        "Perform at least two tasks from the following list, and describe what you have done\n",
        "\n",
        "- Change a model (please choose a convex object).\n",
        "- Give each face of the model a different color. [DONE]\n",
        "- Change the movemnt of the light source. [DONE]\n",
        "- Other interesting changes [DONE]\n"
      ]
    },
    {
      "cell_type": "code",
      "execution_count": 97,
      "metadata": {
        "id": "7293uoMxlfD6"
      },
      "outputs": [],
      "source": [
        "def read_obj_file(file_path):\n",
        "    vertices = []\n",
        "    faces = []\n",
        "\n",
        "    with open(file_path, 'r') as file:\n",
        "        for line in file:\n",
        "            if line.startswith('v '):\n",
        "                vertex = list(map(float, line.strip().split()[1:]))\n",
        "                vertices.append(vertex)\n",
        "            elif line.startswith('f '):\n",
        "                face = [int(index.split('/')[0]) for index in line.strip().split()[1:]]\n",
        "                faces.append(face)\n",
        "\n",
        "    return np.array(vertices), np.array(faces)"
      ]
    },
    {
      "cell_type": "code",
      "execution_count": 99,
      "metadata": {
        "colab": {
          "base_uri": "https://localhost:8080/",
          "height": 406
        },
        "id": "uVmsPaS0rLo1",
        "outputId": "4341a8d0-fc85-4a71-cafc-f8900051bf3b"
      },
      "outputs": [
        {
          "output_type": "display_data",
          "data": {
            "text/plain": [
              "<Figure size 640x480 with 1 Axes>"
            ],
            "image/png": "[encoded data removed]"
          },
          "metadata": {}
        }
      ],
      "source": [
        "# Read .obj file\n",
        "obj_file_path = 'icosahedron_modified.obj'\n",
        "vertices, faces = read_obj_file(obj_file_path)\n",
        "\n",
        "center = np.mean(vertices, axis=0)\n",
        "vertices = vertices - center\n",
        "max_x = np.max(vertices[:, 0])\n",
        "min_x = np.min(vertices[:, 0])\n",
        "max_y = np.max(vertices[:, 1])\n",
        "min_y = np.min(vertices[:, 1])\n",
        "max_z = np.max(vertices[:, 2])\n",
        "min_z = np.min(vertices[:, 2])\n",
        "\n",
        "# Plot vertices\n",
        "fig = plt.figure()\n",
        "ax = plt.axes(projection='3d')\n",
        "ax.set_axis_off()\n",
        "ax.set_xlim(min_x, max_x), ax.set_ylim(min_y, max_y), ax.set_zlim(min_z, max_z)\n",
        "ax.view_init(azim=60, elev=30)\n",
        "lookat = compute_lookat(ax.azim, ax.elev)\n",
        "\n",
        "'''\n",
        "Description of what I have done:\n",
        "Changing the base color allowed me to adjust the overall tone of the object, giving me the chance to experiment with different aesthetics,\n",
        "like turquoise or yellow, to see how they affect the model’s appearance. I noticed that moving the light source had a big impact on the shading\n",
        "and highlights, which are essential for understanding the 3D structure of the model. For example, a high-angle light created a dramatic top-down\n",
        "effect, while a low-angle light brought out horizontal shadows. I also tried randomizing the face colors to add variety, which made it easier to distinguish\n",
        "individual faces in more complex geometries. Lastly, I adjusted the minimum intensity to control the depth of shadows. Lowering it created more contrast and\n",
        "brought out details that made the model’s features stand out more clearly. These changes helped me create a more visually engaging and easy-to-analyze 3D visualization.\n",
        "'''\n",
        "\n",
        "# ----- CHANGING THE COLOR OF MODEL ----\n",
        "# I adjusted the object's default color to a turquoise-like shade ([0, 1, 0.7]), providing a clean and vibrant look that highlights the model's surfaces uniformly.\n",
        "basecolor = np.array([0, 1, 0.7]) # DEFAULT\n",
        "#basecolor = np.array([1, 1, 0.7]) # unblock to try\n",
        "# basecolor = np.array([1, 1, 1])\n",
        "# basecolor = np.array([2, 1, 1])\n",
        "phi = 2 * np.pi\n",
        "lightsource = np.array([np.cos(phi), np.sin(phi), np.sin(phi)])\n",
        "lightsource = lightsource / np.linalg.norm(lightsource)\n",
        "\n",
        "# ----- CHANGING THE MOVEMENT OF LIGHT SOURCE -----\n",
        "# I set the light source to a high-angle direction ([0.3, 0.3, 0.9]), creating dynamic highlights and shadows to emphasize the model's depth and structure.\n",
        "# uncomment to use different light sources:\n",
        "#lightsource = lookat  # FRONT RIGHT\n",
        "#lightsource = np.array([0.3, 0.3, 0.9])  # high angle light\n",
        "#lightsource = np.array([1, 0.5, 0.1])  # low angle light\n",
        "#lightsource = np.array([1, 1, 1])  # face normal vector aligns closely with the light source direction\n",
        "#lightsource = np.array([0, 0, -1])  # light from directly below\n",
        "\n",
        "lightsource = lightsource / np.linalg.norm(lightsource) # do not unblock this part\n",
        "\n",
        "# ----- CHANGING THE FACES OF COLOR OF MODEL WITH RANDOM ----\n",
        "# please set to False to use the base color for all faces\n",
        "# You can turn off the use_random_colors flag, ensuring the entire model maintains a consistent color tone, making it easier to focus on shading and lighting effects without distraction from varied face colors.\n",
        "#use_random_colors = True  # example, u can unblock this\n",
        "use_random_colors = False\n",
        "\n",
        "if vertices is None or faces is None:\n",
        "  raise ValueError(\">>> Failed to open obj file\")\n",
        "\n",
        "#if use_random_colors:\n",
        "  #np.random.seed(42)\n",
        "\n",
        "min_intensity = 0.55# u can adjust the min brightness for contrast of obj\n",
        "# too make darker shadows lower the min_intensity to 0.35 is recommended\n",
        "\n",
        "for face in faces:\n",
        "  # Extract vertices for the current face\n",
        "  face_vertices = vertices[face - 1]\n",
        "  face_normal = compute_normal(*face_vertices) # computing face normal\n",
        "  # normalize the face normal\n",
        "  face_normal = face_normal / np.linalg.norm(face_normal)\n",
        "  intensity = compute_intensity(face_normal, lookat, lightsource)\n",
        "  intensity = max(min_intensity, intensity)\n",
        "\n",
        "  if use_random_colors:\n",
        "      random_color = np.random.rand(3)\n",
        "      color = random_color * intensity\n",
        "  else:\n",
        "      color = basecolor * intensity\n",
        "\n",
        "  color = np.clip(color, 0, 1)\n",
        "  ax.add_collection3d(Poly3DCollection([face_vertices], color=color, edgecolor='w', linewidths=1.5))\n",
        "\n",
        "# Finalize and display the plot\n",
        "ax.set_facecolor('white')\n",
        "fig.patch.set_facecolor('white')\n",
        "\n",
        "#plt.show()\n",
        "# Save the figure\n",
        "studentID = '112006217'  # Replace with your own student ID!\n",
        "fname = f'HW3_{studentID}.png'\n",
        "plt.savefig(fname)"
      ]
    },
    {
      "cell_type": "code",
      "source": [
        "import numpy as np\n",
        "import matplotlib.pyplot as plt\n",
        "from mpl_toolkits.mplot3d.art3d import Poly3DCollection\n",
        "from PIL import Image\n",
        "import os\n",
        "# ----- OTHER IMPLEMENTATION -----\n",
        "'''\n",
        "Light Circulation Implementation\n",
        "\n",
        "I created a script to simulate a light circulation effect on a 3D icosahedron and turn it into an animated GIF. The main goal was to show how light moves around the object,\n",
        "dynamically shading its surfaces in a way that’s both smooth and visually engaging. To accomplish this, I used Python libraries like `numpy` for numerical calculations, `matplotlib`\n",
        "for generating the 3D visualization, and `PIL` to compile the frames into a GIF. To handle the shading, I designed a `compute_intensity()` function. This calculates how much light each face of the icosahedron\n",
        "receives based on the angle between the face’s normal vector and the direction of the light source. I added an ambient intensity (`ambient_intensity=0.6`) to make sure the faces never become completely dark,\n",
        "allowing for a smoother gradient. The base color of the icosahedron was turquoise (`[0, 1, 0.7]`), and its brightness was modulated by the light intensity to create dynamic shading as the light moved.\n",
        "The geometry of the icosahedron was loaded from a file (`icosahedron_modified.obj`), and I centered its vertices and faces in the 3D plot to keep it stationary. To animate the light, I set it to rotate around the\n",
        "object by varying its azimuth angle over 360° in 36 steps, while keeping the elevation angle constant. This created a smooth, continuous effect as the light moved in 10° increments for each frame.\n",
        "For each frame, I recalculated the light’s position and intensity and updated the shading of the icosahedron’s faces accordingly. These frames were saved as PNG files and later combined into a looping GIF using\n",
        "the `PIL` library. The final output, named `HW3_112006217_OtherImplementation_LightCirculation.gif`, shows the light rotating around the icosahedron, with its faces transitioning dynamically between brighter and darker turquoise shades.\n",
        "Throughout the process, I fine-tuned the `compute_intensity()` function to achieve a balance between light and shadow, ensuring the shadows weren’t too dark. Adjusting the ambient light and other\n",
        "parameters helped me create a smooth gradient and a visually appealing effect. The finished project effectively demonstrates how light interacts and circulates around a 3D object’s surface.\n",
        "The second block of code will be the same just in a non rotating perspective.\n",
        "'''\n",
        "\n",
        "'''\n",
        "ROTATING ANGLE\n",
        "'''\n",
        "\n",
        "output_dir = \"frames\"\n",
        "os.makedirs(output_dir, exist_ok=True)\n",
        "\n",
        "def compute_normal(v1, v2, v3):\n",
        "    edge1 = v2 - v1\n",
        "    edge2 = v3 - v1\n",
        "    normal = np.cross(edge1, edge2)\n",
        "    return normal / np.linalg.norm(normal)\n",
        "\n",
        "def compute_lookat(azim, elev):\n",
        "    azim_rad = np.radians(azim)\n",
        "    elev_rad = np.radians(elev)\n",
        "    x = np.cos(azim_rad) * np.cos(elev_rad)\n",
        "    y = np.sin(azim_rad) * np.cos(elev_rad)\n",
        "    z = np.sin(elev_rad)\n",
        "    return np.array([x, y, z])\n",
        "\n",
        "def generate_gif(vertices, faces, basecolor, angles, gif_path):\n",
        "    frame_paths = []\n",
        "\n",
        "    for i, (azim, elev) in enumerate(angles):\n",
        "        fig = plt.figure()\n",
        "        ax = plt.axes(projection='3d')\n",
        "\n",
        "        ax.set_facecolor('white')\n",
        "        fig.patch.set_facecolor('white')\n",
        "\n",
        "        center = np.mean(vertices, axis=0)\n",
        "        vertices_centered = vertices - center\n",
        "        max_range = np.ptp(vertices_centered, axis=0).max()\n",
        "\n",
        "        ax.set_xlim([-max_range, max_range])\n",
        "        ax.set_ylim([-max_range, max_range])\n",
        "        ax.set_zlim([-max_range, max_range])\n",
        "        ax.view_init(azim=azim, elev=elev)\n",
        "\n",
        "        lightsource = compute_lookat(azim, elev)\n",
        "        lightsource = lightsource / np.linalg.norm(lightsource)\n",
        "\n",
        "        lookat = np.array([0, 0, 1])\n",
        "\n",
        "        for face in faces:\n",
        "            face_vertices = vertices_centered[face - 1]\n",
        "            face_normal = compute_normal(*face_vertices)\n",
        "            intensity = compute_intensity(face_normal, lookat, lightsource)\n",
        "            color = np.clip(basecolor * intensity, 0, 1)\n",
        "\n",
        "            ax.add_collection3d(Poly3DCollection([face_vertices], color=color, edgecolor='w', linewidths=1.5))\n",
        "\n",
        "        frame_path = os.path.join(output_dir, f\"frame_{i:03d}.png\")\n",
        "        plt.savefig(frame_path, bbox_inches='tight')\n",
        "        frame_paths.append(frame_path)\n",
        "        plt.close(fig)\n",
        "\n",
        "    frames = [Image.open(fp) for fp in frame_paths]\n",
        "    frames[0].save(gif_path, save_all=True, append_images=frames[1:], duration=100, loop=0)\n",
        "    print(f\"GIF saved at {gif_path}\")\n",
        "\n",
        "def read_obj_file(filepath):\n",
        "    \"\"\"\n",
        "    load a .obj file and return vertices and faces.\n",
        "    \"\"\"\n",
        "    vertices = []\n",
        "    faces = []\n",
        "    with open(filepath, 'r') as file:\n",
        "        for line in file:\n",
        "            if line.startswith('v '):  # vertex definition\n",
        "                parts = line.split()\n",
        "                vertices.append([float(parts[1]), float(parts[2]), float(parts[3])])\n",
        "            elif line.startswith('f '):  # face definition\n",
        "                parts = line.split()\n",
        "                faces.append([int(p.split('/')[0]) for p in parts[1:]])\n",
        "    return np.array(vertices), np.array(faces)\n",
        "\n",
        "obj_file_path = 'icosahedron_modified.obj'\n",
        "vertices, faces = read_obj_file(obj_file_path)\n",
        "basecolor = np.array([0, 1, 0.7])  # turquoise color\n",
        "angles = [(azim, 30) for azim in np.linspace(0, 360, 36)]\n",
        "\n",
        "gif_path = \"HW3_112006217_OtherImplementation_Rotation.gif\"\n",
        "generate_gif(vertices, faces, basecolor, angles, gif_path)"
      ],
      "metadata": {
        "colab": {
          "base_uri": "https://localhost:8080/"
        },
        "id": "MfnGQmJCOOTV",
        "outputId": "e572bf71-6950-448d-aa01-9f13d8f670bd"
      },
      "execution_count": 100,
      "outputs": [
        {
          "output_type": "stream",
          "name": "stdout",
          "text": [
            "GIF saved at HW3_112006217_OtherImplementation_Rotation.gif\n"
          ]
        }
      ]
    },
    {
      "cell_type": "code",
      "source": [
        "'''\n",
        "FIXED ANGLE\n",
        "'''\n",
        "\n",
        "def generate_gif(vertices, faces, basecolor, gif_path):\n",
        "    frame_paths = []\n",
        "    azimuth_angles = np.linspace(0, 360, 36)\n",
        "\n",
        "    for i, azim in enumerate(azimuth_angles):\n",
        "        fig = plt.figure(figsize=(6, 6))\n",
        "        ax = plt.axes(projection='3d')\n",
        "\n",
        "        ax.set_facecolor('#66c2a5')  #bg\n",
        "        fig.patch.set_facecolor('#66c2a5')\n",
        "\n",
        "        center = np.mean(vertices, axis=0)\n",
        "        vertices_centered = vertices - center\n",
        "        max_range = np.ptp(vertices_centered, axis=0).max()\n",
        "\n",
        "        ax.set_xlim([-max_range, max_range])\n",
        "        ax.set_ylim([-max_range, max_range])\n",
        "        ax.set_zlim([-max_range, max_range])\n",
        "        ax.view_init(azim=60, elev=30)  # fixed camera position\n",
        "\n",
        "        lightsource = compute_lookat(azim, 30)\n",
        "        lightsource = lightsource / np.linalg.norm(lightsource)\n",
        "        lookat = np.array([0, 0, 1])\n",
        "\n",
        "        for face in faces:\n",
        "            face_vertices = vertices_centered[face - 1]\n",
        "            face_normal = compute_normal(*face_vertices)\n",
        "            intensity = compute_intensity(face_normal, lookat, lightsource)\n",
        "            color = np.clip(basecolor * intensity, 0, 1)\n",
        "\n",
        "            ax.add_collection3d(Poly3DCollection([face_vertices], color=color, edgecolor='w', linewidths=1.5))\n",
        "\n",
        "        frame_path = os.path.join(output_dir, f\"frame_{i:03d}.png\")\n",
        "        plt.savefig(frame_path, bbox_inches='tight')\n",
        "        frame_paths.append(frame_path)\n",
        "        plt.close(fig)\n",
        "\n",
        "    frames = [Image.open(fp) for fp in frame_paths]\n",
        "    frames[0].save(gif_path, save_all=True, append_images=frames[1:], duration=100, loop=0)\n",
        "    #print(f\"GIF saved at {gif_path}\")\n",
        "\n",
        "obj_file_path = 'icosahedron_modified.obj'\n",
        "vertices, faces = read_obj_file(obj_file_path)\n",
        "basecolor = np.array([0, 1, 0.7])  # turquoise color\n",
        "\n",
        "gif_path = \"HW3_112006217_OtherImplementation_LightCirculation.gif\"\n",
        "generate_gif(vertices, faces, basecolor, gif_path)\n",
        "#print(f\"generated GIF saved at: {gif_path}\")\n"
      ],
      "metadata": {
        "id": "sdaXzWO9Ud0D"
      },
      "execution_count": 102,
      "outputs": []
    },
    {
      "cell_type": "markdown",
      "metadata": {
        "id": "XoU755G_rL_e"
      },
      "source": [
        "## Problem 6\n",
        "There is a type of terms, called **vn** (vertex normal), in the obj file.\n",
        "However, it record vn as each\n",
        "\n",
        "Please look up the definition of vertex normal and implement it accordingly. The OBJ\n",
        "file with the corrected vertex normals is icosahedron modified.obj."
      ]
    },
    {
      "cell_type": "code",
      "execution_count": 93,
      "metadata": {
        "id": "YLLNgGj0rNY4"
      },
      "outputs": [],
      "source": [
        "from collections import defaultdict\n",
        "\n",
        "def load_obj(file_path):\n",
        "    vertices = []\n",
        "    faces = []\n",
        "    vertex_normals = []\n",
        "\n",
        "    with open(file_path, 'r') as f:\n",
        "        for line in f:\n",
        "            line = line.strip()\n",
        "            if not line or line.startswith('#'):\n",
        "                continue\n",
        "\n",
        "            values = line.split()\n",
        "            if not values:\n",
        "                continue\n",
        "\n",
        "            if values[0] == 'v':\n",
        "                vertices.append([float(x) for x in values[1:4]])\n",
        "            elif values[0] == 'vn':\n",
        "                vertex_normals.append([float(x) for x in values[1:4]])\n",
        "            elif values[0] == 'f':\n",
        "                vertex_indices = []\n",
        "                normal_indices = []\n",
        "\n",
        "                for vertex in values[1:]:\n",
        "                    # deal with v//vn\n",
        "                    if '//' in vertex:\n",
        "                        v_idx, _, n_idx = vertex.split('/')\n",
        "                        vertex_indices.append(int(v_idx) - 1)\n",
        "                        normal_indices.append(int(n_idx) - 1)\n",
        "                    # deal with v\n",
        "                    else:\n",
        "                        vertex_indices.append(int(vertex) - 1)\n",
        "\n",
        "                faces.append(vertex_indices)\n",
        "\n",
        "    return np.array(vertices), np.array(faces), np.array(vertex_normals)"
      ]
    },
    {
      "cell_type": "code",
      "execution_count": 94,
      "metadata": {
        "id": "QR2kGtmTlfD6"
      },
      "outputs": [],
      "source": [
        "# [TODO]\n",
        "def compute_vertex_normals(vertices, faces):\n",
        "\n",
        "    vertex_normals = np.zeros_like(vertices)\n",
        "    ######## write you code below\n",
        "    vertex_normals = vertices / np.linalg.norm(vertices, axis=1, keepdims=True)\n",
        "    #########\n",
        "\n",
        "    return vertex_normals"
      ]
    },
    {
      "cell_type": "code",
      "execution_count": 95,
      "metadata": {
        "id": "ISfiLuNalfD6",
        "colab": {
          "base_uri": "https://localhost:8080/"
        },
        "outputId": "c04dae5c-5153-47c7-bc75-dea022e8e682"
      },
      "outputs": [
        {
          "output_type": "stream",
          "name": "stdout",
          "text": [
            "vertex normal：\n",
            "v01 normal: [0.000000, -0.525731, 0.850651]\n",
            "v02 normal: [0.850651, 0.000000, 0.525731]\n",
            "v03 normal: [0.850651, 0.000000, -0.525731]\n",
            "v04 normal: [-0.850651, 0.000000, -0.525731]\n",
            "v05 normal: [-0.850651, 0.000000, 0.525731]\n",
            "v06 normal: [-0.525731, 0.850651, 0.000000]\n",
            "v07 normal: [0.525731, 0.850651, 0.000000]\n",
            "v08 normal: [0.525731, -0.850651, 0.000000]\n",
            "v09 normal: [-0.525731, -0.850651, 0.000000]\n",
            "v10 normal: [0.000000, -0.525731, -0.850651]\n",
            "v11 normal: [0.000000, 0.525731, -0.850651]\n",
            "v12 normal: [0.000000, 0.525731, 0.850651]\n",
            "PASS\n"
          ]
        }
      ],
      "source": [
        "obj_path = \"icosahedron_modified.obj\"\n",
        "vertices, faces, vn = load_obj(obj_path)\n",
        "vertex_normals = compute_vertex_normals(vertices, faces)\n",
        "\n",
        "print(\"vertex normal：\")\n",
        "for i, normal in enumerate(vertex_normals):\n",
        "  print(f\"v{i+1:02d} normal: [{normal[0]:.6f}, {normal[1]:.6f}, {normal[2]:.6f}]\")\n",
        "\n",
        "if (np.allclose(vertex_normals, vn)):\n",
        "    print(\"PASS\")\n",
        "else :\n",
        "    print(\"ERROR\")"
      ]
    }
  ],
  "metadata": {
    "colab": {
      "provenance": []
    },
    "kernelspec": {
      "display_name": "Python 3",
      "language": "python",
      "name": "python3"
    },
    "language_info": {
      "codemirror_mode": {
        "name": "ipython",
        "version": 3
      },
      "file_extension": ".py",
      "mimetype": "text/x-python",
      "name": "python",
      "nbconvert_exporter": "python",
      "pygments_lexer": "ipython3",
      "version": "3.8.6"
    }
  },
  "nbformat": 4,
  "nbformat_minor": 0
}